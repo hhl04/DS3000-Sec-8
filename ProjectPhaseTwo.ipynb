{
 "cells": [
  {
   "cell_type": "markdown",
   "metadata": {},
   "source": [
    "# PROJECT PHASE 2 SUBMISSION\n",
    "\n",
    "# NAMES: Madison, Nakul, Huy, Mark\n",
    "\n",
    "## Central motivation of the project\n",
    "\n",
    "We wanted to find how the Economic Growth of Countries Affect CO2 Emissions. As countries progress economically, they face challenges related to climate sustainabiliy and preservation. Tracking CO2 emissions of countries can help predict future CO2 emissions as more countries become developed. \n",
    "\n",
    "1. How does the CO2 emissions of developing countries help predict future climate issues. \n",
    "\n",
    "2. How does economic growth impact pollution by country; is there a corellation between economic output and poluttion. \n",
    "\n",
    "\n"
   ]
  },
  {
   "cell_type": "code",
   "execution_count": 10,
   "metadata": {},
   "outputs": [
    {
     "name": "stdout",
     "output_type": "stream",
     "text": [
      "                                                      0\n",
      "0     b'[{\"page\":1,\"pages\":4,\"per_page\":5000,\"total\"...\n",
      "1     b'T\",\"value\":\"CO2 emissions (kt)\"},\"country\":{...\n",
      "2     b'3\",\"value\":null,\"unit\":\"\",\"obs_status\":\"\",\"d...\n",
      "3     b'y\":{\"id\":\"ZH\",\"value\":\"Africa Eastern and So...\n",
      "4     b'\",\"decimal\":0},{\"indicator\":{\"id\":\"EN.ATM.CO...\n",
      "...                                                 ...\n",
      "8207  b'T\",\"value\":\"CO2 emissions (kt)\"},\"country\":{...\n",
      "8208  b'\"unit\":\"\",\"obs_status\":\"\",\"decimal\":0},{\"ind...\n",
      "8209  b'alue\":\"Bulgaria\"},\"countryiso3code\":\"BGR\",\"d...\n",
      "8210  b'\":\"EN.ATM.CO2E.KT\",\"value\":\"CO2 emissions (k...\n",
      "8211  b'\"value\":41586.7,\"unit\":\"\",\"obs_status\":\"\",\"d...\n",
      "\n",
      "[8212 rows x 1 columns]\n",
      "                                                    0\n",
      "0   b'[{\"page\":1,\"pages\":341,\"per_page\":50,\"total\"...\n",
      "1   b'D\",\"value\":\"GDP (current US$)\"},\"country\":{\"...\n",
      "2   b'\",\"value\":1236163044999.97,\"unit\":\"\",\"obs_st...\n",
      "3   b'\"},\"country\":{\"id\":\"ZH\",\"value\":\"Africa East...\n",
      "4   b'nit\":\"\",\"obs_status\":\"\",\"decimal\":0},{\"indic...\n",
      "..                                                ...\n",
      "85  b'rn\"},\"countryiso3code\":\"AFE\",\"date\":\"1976\",\"...\n",
      "86  b'Y.GDP.MKTP.CD\",\"value\":\"GDP (current US$)\"},...\n",
      "87  b'\"date\":\"1975\",\"value\":86883552689.3195,\"unit...\n",
      "88  b'current US$)\"},\"country\":{\"id\":\"ZH\",\"value\":...\n",
      "89  b'2383.2557,\"unit\":\"\",\"obs_status\":\"\",\"decimal...\n",
      "\n",
      "[90 rows x 1 columns]\n"
     ]
    }
   ],
   "source": [
    "import warnings\n",
    "warnings.simplefilter(action='ignore', category=FutureWarning)\n",
    "\n",
    "import requests\n",
    "from datetime import datetime\n",
    "import pandas as pd\n",
    "import matplotlib.pyplot as plt\n",
    "import plotly.express as px\n",
    "from bs4 import BeautifulSoup\n",
    "from datetime import time\n",
    "\n",
    "# Range 1960 - 2023\n",
    "\n",
    "url = 'https://api.worldbank.org/v2/country/all/indicator/EN.ATM.CO2E.KT?date=1960:2023&format=json&per_page=5000'\n",
    "data = requests.get(url)\n",
    "df_co2 = pd.DataFrame(data)\n",
    "print(df_co2)\n",
    "\n",
    "url = \"http://api.worldbank.org/v2/country/all/indicator/NY.GDP.MKTP.CD?date=1960:2023&format=json\"\n",
    "data = requests.get(url)\n",
    "df_gdp = pd.DataFrame(data)\n",
    "print(df_gdp)\n",
    "\n",
    "\n",
    "\n",
    "\n",
    "\n",
    "\n"
   ]
  }
 ],
 "metadata": {
  "kernelspec": {
   "display_name": "base",
   "language": "python",
   "name": "python3"
  },
  "language_info": {
   "codemirror_mode": {
    "name": "ipython",
    "version": 3
   },
   "file_extension": ".py",
   "mimetype": "text/x-python",
   "name": "python",
   "nbconvert_exporter": "python",
   "pygments_lexer": "ipython3",
   "version": "3.10.14"
  }
 },
 "nbformat": 4,
 "nbformat_minor": 2
}
