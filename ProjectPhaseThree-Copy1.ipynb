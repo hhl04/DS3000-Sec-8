{
 "cells": [
  {
   "cell_type": "markdown",
   "metadata": {},
   "source": [
    "# PROJECT PHASE 3 SUBMISSION\n",
    "\n",
    "# NAMES: Madison, Nakul, Huy, Mark\n"
   ]
  },
  {
   "cell_type": "code",
   "execution_count": 1,
   "metadata": {},
   "outputs": [],
   "source": [
    "import warnings\n",
    "warnings.simplefilter(action='ignore', category=FutureWarning)\n",
    "\n",
    "import requests\n",
    "from datetime import datetime\n",
    "import pandas as pd\n",
    "import matplotlib.pyplot as plt\n",
    "import plotly.express as px\n",
    "from bs4 import BeautifulSoup\n",
    "import numpy as np\n",
    "from datetime import time\n",
    "\n",
    "# import wbgapi as wb \n",
    "# documentation: https://pypi.org/project/wbgapi/"
   ]
  },
  {
   "cell_type": "code",
   "execution_count": 2,
   "metadata": {},
   "outputs": [],
   "source": [
    "#only select the rows where year is from 1970 \n",
    "#because that's when most countries began to have CO2 Emission data\n",
    "df = pd.read_csv('gdp_co2_pop_1970_2023.csv')\n",
    "\n",
    "#df['CO2 Emission'] = df['CO2 Emission'] * 1000"
   ]
  },
  {
   "cell_type": "markdown",
   "metadata": {},
   "source": [
    "### Some countries still have NaN CO2 Emission. We replaced these NaN with the Average Emission\n",
    "We won't be able to do any Regression when there are NaN values"
   ]
  },
  {
   "cell_type": "code",
   "execution_count": 3,
   "metadata": {},
   "outputs": [],
   "source": [
    "#There are still countries with NaN CO2 Emission, let's fill these NaN with the average value of Emission\n",
    "#df['CO2 Emission'] = df['CO2 Emission'].fillna(df['CO2 Emission'].mean())\n"
   ]
  },
  {
   "cell_type": "code",
   "execution_count": 4,
   "metadata": {},
   "outputs": [],
   "source": [
    "from sklearn.metrics import r2_score\n",
    "from sklearn.model_selection import train_test_split\n",
    "import scipy.stats as stats\n",
    "import pylab as py\n",
    "from sklearn.preprocessing import PolynomialFeatures\n",
    "\n",
    "from sklearn.impute import SimpleImputer\n",
    "\n",
    "from sklearn.compose import ColumnTransformer\n",
    "from sklearn.preprocessing import OneHotEncoder"
   ]
  },
  {
   "cell_type": "markdown",
   "metadata": {},
   "source": [
    "## Linear Regression"
   ]
  },
  {
   "cell_type": "code",
   "execution_count": 5,
   "metadata": {},
   "outputs": [],
   "source": [
    "def add_bias_column(X):\n",
    "    \"\"\"\n",
    "    Args:\n",
    "        X (array): can be either 1-d or 2-d\n",
    "    \n",
    "    Returns:\n",
    "        Xnew (array): the same array, but 2-d with a column of 1's in the first spot\n",
    "    \"\"\"\n",
    "    \n",
    "    # If the array is 1-d\n",
    "    if len(X.shape) == 1:\n",
    "        Xnew = np.column_stack([np.ones(X.shape[0]), X])\n",
    "    \n",
    "    # If the array is 2-d\n",
    "    elif len(X.shape) == 2:\n",
    "        bias_col = np.ones((X.shape[0], 1))\n",
    "        Xnew = np.hstack([bias_col, X])\n",
    "        \n",
    "    else:\n",
    "        raise ValueError(\"Input array must be either 1-d or 2-d\")\n",
    "\n",
    "    return Xnew\n",
    "\n",
    "def line_of_best_fit(X, y): \n",
    "    '''\n",
    "    Args: \n",
    "        X (array): can be either 1-d or 2-d\n",
    "        y (array): 1-d\n",
    "    Returns: \n",
    "        m (vector): coefficient and intercept of the line of best fit \n",
    "    '''\n",
    "\n",
    "    Xnew = add_bias_column(X) #add the '1' column to X\n",
    "\n",
    "    m = np.matmul(np.linalg.inv(np.matmul(Xnew.T, Xnew)), np.matmul(Xnew.T, y))\n",
    "\n",
    "    return m\n",
    "\n",
    "def linreg_predict(Xnew, ynew, m): \n",
    "    '''\n",
    "    Args: \n",
    "        Xnew (array): can be either 1-d or 2-d\n",
    "        ynew (array): 1-d\n",
    "        m (vector): coefficient and intercept of the line of best fit \n",
    "    Returns: \n",
    "        a dictionary containing ypreds, resids, mse, r2 \n",
    "    '''\n",
    "    ypreds = np.matmul(add_bias_column(Xnew), m) \n",
    "    #need to add bias column to Xnew, otherwise matmul won't work because inner dimensions mismatch\n",
    "    \n",
    "    resids = ynew - ypreds\n",
    "    \n",
    "    mse = (resids**2).mean()\n",
    "    \n",
    "    r2 = 1 - (mse / ynew.var())\n",
    "\n",
    "    return {'ypreds':ypreds, 'resids':resids, 'mse':mse, 'r2':r2}\n",
    "\n",
    "def get_mse(y_true, y_pred):\n",
    "    '''\n",
    "    Params: \n",
    "        y_true: the actual y value\n",
    "        y_pred: the predicted y value\n",
    "\n",
    "    Returns: \n",
    "        the mse score\n",
    "    '''\n",
    "    # calculate the mean squared distance between the predicted and actual y\n",
    "    return np.mean((y_true - y_pred) ** 2)\n",
    "\n",
    "def show_fit(X, y, slope, intercept):\n",
    "    '''\n",
    "    Params: \n",
    "        X: x value\n",
    "        y: y value\n",
    "        slope: slope of the line of best fit\n",
    "        intercept: intercept of the line of best fit\n",
    "    Returns:\n",
    "        nothing, but plots the data points and a line of best fit\n",
    "        Graph title is the equation of the line of best fit and MSE\n",
    "    '''\n",
    "    plt.figure()\n",
    "    \n",
    "    # in case this wasn't done before, transform the input data into numpy arrays and flatten them\n",
    "    x = np.array(X).ravel()\n",
    "    y = np.array(y).ravel()\n",
    "    \n",
    "    # plot the actual data\n",
    "    plt.scatter(x, y, label='data')\n",
    "    \n",
    "    # compute linear predictions \n",
    "    # x is a numpy array so each element gets multiplied by slope and intercept is added\n",
    "    y_pred = slope * x + intercept\n",
    "    \n",
    "    # plot the linear fit\n",
    "    plt.plot(x, y_pred, color='black',\n",
    "             ls=':',\n",
    "             label='linear fit')\n",
    "    \n",
    "    plt.legend()\n",
    "    \n",
    "    plt.xlabel('x')\n",
    "    plt.ylabel('y')\n",
    "    \n",
    "    # print the mean squared error\n",
    "    y_pred = slope * x + intercept\n",
    "    mse = get_mse(y_true=y, y_pred=y_pred)\n",
    "    plt.suptitle(f'y_hat = {slope:.3f} * x + {intercept:.3f}, MSE = {mse:.3f}')\n",
    "    "
   ]
  },
  {
   "cell_type": "markdown",
   "metadata": {},
   "source": [
    "### Countries by income levels or regions"
   ]
  },
  {
   "cell_type": "code",
   "execution_count": 6,
   "metadata": {},
   "outputs": [],
   "source": [
    "#GDP and CO2 Emission grouped by income levels\n",
    "#these are keywords in the 'Country' column\n",
    "income_levels = ['High income', 'Middle income', 'Least developed countries: UN classification']\n",
    "\n",
    "countries_by_incomes = df[(df['Country'].isin(income_levels))]\n",
    "\n",
    "regions = ['North America', 'South Asia', 'Sub-Saharan Africa']\n",
    "\n",
    "countries_by_regions = df[(df['Country'].isin(regions))]\n"
   ]
  },
  {
   "cell_type": "markdown",
   "metadata": {},
   "source": [
    "### Some countries still have NaN CO2 Emission. We replaced these NaN with the Average Emission\n",
    "We won't be able to do any Regression when there are NaN values"
   ]
  },
  {
   "cell_type": "markdown",
   "metadata": {},
   "source": [
    "### We sliced the df by certain incomes and regions, then fill the NaN in `CO2 Emission` with the `mean CO2 Emission` of the respective incomes and regions, so that this `mean` is more accurate (compared to the `mean CO2 Emission` of the entire df)"
   ]
  },
  {
   "cell_type": "code",
   "execution_count": 7,
   "metadata": {},
   "outputs": [
    {
     "name": "stderr",
     "output_type": "stream",
     "text": [
      "/var/folders/xw/yj2m39tn3rv0y3pw8fqb3nzm0000gn/T/ipykernel_47647/1401789788.py:2: SettingWithCopyWarning: \n",
      "A value is trying to be set on a copy of a slice from a DataFrame.\n",
      "Try using .loc[row_indexer,col_indexer] = value instead\n",
      "\n",
      "See the caveats in the documentation: https://pandas.pydata.org/pandas-docs/stable/user_guide/indexing.html#returning-a-view-versus-a-copy\n",
      "  countries_by_incomes['CO2 Emission'] = countries_by_incomes['CO2 Emission'].fillna(countries_by_incomes['CO2 Emission'].mean())\n",
      "/var/folders/xw/yj2m39tn3rv0y3pw8fqb3nzm0000gn/T/ipykernel_47647/1401789788.py:4: SettingWithCopyWarning: \n",
      "A value is trying to be set on a copy of a slice from a DataFrame.\n",
      "Try using .loc[row_indexer,col_indexer] = value instead\n",
      "\n",
      "See the caveats in the documentation: https://pandas.pydata.org/pandas-docs/stable/user_guide/indexing.html#returning-a-view-versus-a-copy\n",
      "  countries_by_regions['CO2 Emission'] = countries_by_regions['CO2 Emission'].fillna(countries_by_regions['CO2 Emission'].mean())\n"
     ]
    }
   ],
   "source": [
    "#There are still countries with NaN CO2 Emission, let's fill these NaN with the average value of Emission\n",
    "countries_by_incomes['CO2 Emission'] = countries_by_incomes['CO2 Emission'].fillna(countries_by_incomes['CO2 Emission'].mean())\n",
    "\n",
    "countries_by_regions['CO2 Emission'] = countries_by_regions['CO2 Emission'].fillna(countries_by_regions['CO2 Emission'].mean())"
   ]
  },
  {
   "cell_type": "markdown",
   "metadata": {},
   "source": [
    "### Separate Regions"
   ]
  },
  {
   "cell_type": "code",
   "execution_count": 8,
   "metadata": {},
   "outputs": [
    {
     "name": "stderr",
     "output_type": "stream",
     "text": [
      "/var/folders/xw/yj2m39tn3rv0y3pw8fqb3nzm0000gn/T/ipykernel_47647/2376184790.py:3: SettingWithCopyWarning: \n",
      "A value is trying to be set on a copy of a slice from a DataFrame.\n",
      "Try using .loc[row_indexer,col_indexer] = value instead\n",
      "\n",
      "See the caveats in the documentation: https://pandas.pydata.org/pandas-docs/stable/user_guide/indexing.html#returning-a-view-versus-a-copy\n",
      "  north_america['CO2 Emission'] = north_america['CO2 Emission'].fillna(north_america['CO2 Emission'].mean())\n",
      "/var/folders/xw/yj2m39tn3rv0y3pw8fqb3nzm0000gn/T/ipykernel_47647/2376184790.py:7: SettingWithCopyWarning: \n",
      "A value is trying to be set on a copy of a slice from a DataFrame.\n",
      "Try using .loc[row_indexer,col_indexer] = value instead\n",
      "\n",
      "See the caveats in the documentation: https://pandas.pydata.org/pandas-docs/stable/user_guide/indexing.html#returning-a-view-versus-a-copy\n",
      "  south_asia['CO2 Emission'] = south_asia['CO2 Emission'].fillna(south_asia['CO2 Emission'].mean())\n",
      "/var/folders/xw/yj2m39tn3rv0y3pw8fqb3nzm0000gn/T/ipykernel_47647/2376184790.py:11: SettingWithCopyWarning: \n",
      "A value is trying to be set on a copy of a slice from a DataFrame.\n",
      "Try using .loc[row_indexer,col_indexer] = value instead\n",
      "\n",
      "See the caveats in the documentation: https://pandas.pydata.org/pandas-docs/stable/user_guide/indexing.html#returning-a-view-versus-a-copy\n",
      "  sub_saharan_africa['CO2 Emission'] = sub_saharan_africa['CO2 Emission'].fillna(sub_saharan_africa['CO2 Emission'].mean())\n"
     ]
    }
   ],
   "source": [
    "# North America\n",
    "north_america = df[(df['Country'] == 'North America')]\n",
    "north_america['CO2 Emission'] = north_america['CO2 Emission'].fillna(north_america['CO2 Emission'].mean())\n",
    "\n",
    "# South Asia\n",
    "south_asia = df[(df['Country'] == 'South Asia')]\n",
    "south_asia['CO2 Emission'] = south_asia['CO2 Emission'].fillna(south_asia['CO2 Emission'].mean())\n",
    "\n",
    "# Sub-Saharan Africa\n",
    "sub_saharan_africa = df[(df['Country'] == 'Sub-Saharan Africa')]\n",
    "sub_saharan_africa['CO2 Emission'] = sub_saharan_africa['CO2 Emission'].fillna(sub_saharan_africa['CO2 Emission'].mean())"
   ]
  },
  {
   "cell_type": "code",
   "execution_count": 9,
   "metadata": {},
   "outputs": [
    {
     "data": {
      "text/html": [
       "<div>\n",
       "<style scoped>\n",
       "    .dataframe tbody tr th:only-of-type {\n",
       "        vertical-align: middle;\n",
       "    }\n",
       "\n",
       "    .dataframe tbody tr th {\n",
       "        vertical-align: top;\n",
       "    }\n",
       "\n",
       "    .dataframe thead th {\n",
       "        text-align: right;\n",
       "    }\n",
       "</style>\n",
       "<table border=\"1\" class=\"dataframe\">\n",
       "  <thead>\n",
       "    <tr style=\"text-align: right;\">\n",
       "      <th></th>\n",
       "      <th>Unnamed: 0</th>\n",
       "      <th>Country</th>\n",
       "      <th>Year</th>\n",
       "      <th>CO2 Emission</th>\n",
       "      <th>GDP per Capita</th>\n",
       "      <th>Total Population</th>\n",
       "    </tr>\n",
       "  </thead>\n",
       "  <tbody>\n",
       "    <tr>\n",
       "      <th>10768</th>\n",
       "      <td>10768</td>\n",
       "      <td>Middle income</td>\n",
       "      <td>2023</td>\n",
       "      <td>12197.964635</td>\n",
       "      <td>6266.777432</td>\n",
       "      <td>5.870153e+09</td>\n",
       "    </tr>\n",
       "    <tr>\n",
       "      <th>10769</th>\n",
       "      <td>10769</td>\n",
       "      <td>Middle income</td>\n",
       "      <td>2022</td>\n",
       "      <td>32735.783700</td>\n",
       "      <td>6165.896194</td>\n",
       "      <td>5.823625e+09</td>\n",
       "    </tr>\n",
       "    <tr>\n",
       "      <th>10770</th>\n",
       "      <td>10770</td>\n",
       "      <td>Middle income</td>\n",
       "      <td>2021</td>\n",
       "      <td>32269.952300</td>\n",
       "      <td>5925.770975</td>\n",
       "      <td>5.782549e+09</td>\n",
       "    </tr>\n",
       "    <tr>\n",
       "      <th>10771</th>\n",
       "      <td>10771</td>\n",
       "      <td>Middle income</td>\n",
       "      <td>2020</td>\n",
       "      <td>30815.609600</td>\n",
       "      <td>5068.539981</td>\n",
       "      <td>5.731777e+09</td>\n",
       "    </tr>\n",
       "    <tr>\n",
       "      <th>10772</th>\n",
       "      <td>10772</td>\n",
       "      <td>Middle income</td>\n",
       "      <td>2019</td>\n",
       "      <td>31127.202400</td>\n",
       "      <td>5281.783603</td>\n",
       "      <td>5.675825e+09</td>\n",
       "    </tr>\n",
       "  </tbody>\n",
       "</table>\n",
       "</div>"
      ],
      "text/plain": [
       "       Unnamed: 0        Country  Year  CO2 Emission  GDP per Capita  \\\n",
       "10768       10768  Middle income  2023  12197.964635     6266.777432   \n",
       "10769       10769  Middle income  2022  32735.783700     6165.896194   \n",
       "10770       10770  Middle income  2021  32269.952300     5925.770975   \n",
       "10771       10771  Middle income  2020  30815.609600     5068.539981   \n",
       "10772       10772  Middle income  2019  31127.202400     5281.783603   \n",
       "\n",
       "       Total Population  \n",
       "10768      5.870153e+09  \n",
       "10769      5.823625e+09  \n",
       "10770      5.782549e+09  \n",
       "10771      5.731777e+09  \n",
       "10772      5.675825e+09  "
      ]
     },
     "execution_count": 9,
     "metadata": {},
     "output_type": "execute_result"
    }
   ],
   "source": [
    "countries_by_incomes.head()"
   ]
  },
  {
   "cell_type": "markdown",
   "metadata": {},
   "source": [
    "### Predict North America's CO2 Emission with Total Population"
   ]
  },
  {
   "cell_type": "code",
   "execution_count": 10,
   "metadata": {},
   "outputs": [
    {
     "data": {
      "text/plain": [
       "array([6958.81446226, 6766.7488    , 6649.0023    , 6319.7877    ,\n",
       "       6921.5044    , 7068.3165    , 6876.6089    , 6918.6899    ,\n",
       "       7046.0667    , 7171.7851    , 7131.0551    , 6979.0885    ,\n",
       "       7220.4325    , 7405.5997    , 7141.6435    , 7650.4876    ,\n",
       "       7856.8059    , 7726.4251    , 7839.8485    , 7827.4744    ,\n",
       "       7742.0999    , 7657.4357    , 7798.5113    , 7891.6511    ,\n",
       "       7703.1599    , 7688.8805    , 7631.1176    , 7335.3681    ,\n",
       "       7148.6371    , 7064.4303    , 6931.4832    , 6800.6217    ,\n",
       "       6685.5084    , 6738.392     , 6879.8929    , 6791.683     ,\n",
       "       6521.0587    , 6345.728     , 6406.1       , 6402.3609    ,\n",
       "       6154.5956    , 6183.8091    , 6472.022     , 6572.0023    ,\n",
       "       6799.513     , 6718.3034    , 6719.064     , 6542.0103    ,\n",
       "       6215.3756    , 6446.9754    , 6615.7278    , 6389.0367    ,\n",
       "       6095.5458    , 6211.6941    ])"
      ]
     },
     "execution_count": 10,
     "metadata": {},
     "output_type": "execute_result"
    }
   ],
   "source": [
    "# use population North America as X\n",
    "X_pop_NA = np.array(north_america['Total Population'])\n",
    "y_NA = np.array(north_america['CO2 Emission'])\n",
    "\n",
    "y_NA"
   ]
  },
  {
   "cell_type": "code",
   "execution_count": 11,
   "metadata": {},
   "outputs": [
    {
     "data": {
      "text/plain": [
       "array([5.36643558e+03, 5.33553698e-06])"
      ]
     },
     "execution_count": 11,
     "metadata": {},
     "output_type": "execute_result"
    }
   ],
   "source": [
    "Xtrain, Xtest, ytrain, ytest = train_test_split(X_pop_NA, y_NA, test_size=0.3, random_state = 3)\n",
    "\n",
    "#line of best fit with train sets\n",
    "mtrain_NA = line_of_best_fit(Xtrain, ytrain)\n",
    "\n",
    "#dict contains ypreds, resids, mse, r2 of North America\n",
    "linreg_pred_vals_NA = linreg_predict(Xtest, ytest, mtrain_NA)\n",
    "\n",
    "mtrain_NA"
   ]
  },
  {
   "cell_type": "code",
   "execution_count": 12,
   "metadata": {},
   "outputs": [
    {
     "data": {
      "text/plain": [
       "array([   7.96907196, -107.97995002,  -82.81982371, -216.14336255,\n",
       "       -359.2561091 ,  -86.14237251,  206.95049475,  689.39650198,\n",
       "       -182.46378055, -419.85620853, -362.87244942,  724.29859721,\n",
       "        -22.5457011 ,   24.87725253, -496.34327452, -397.8036523 ,\n",
       "        373.26364157])"
      ]
     },
     "execution_count": 12,
     "metadata": {},
     "output_type": "execute_result"
    }
   ],
   "source": [
    "linreg_pred_vals_NA['resids']"
   ]
  },
  {
   "cell_type": "code",
   "execution_count": 13,
   "metadata": {},
   "outputs": [
    {
     "data": {
      "text/plain": [
       "array([5.13401430e+03, 6.06440909e-06])"
      ]
     },
     "execution_count": 13,
     "metadata": {},
     "output_type": "execute_result"
    }
   ],
   "source": [
    "#line of best fit with the whole data\n",
    "mfull_NA = line_of_best_fit(X_pop_NA, y_NA)\n",
    "\n",
    "full_linreg_pred_vals_NA = linreg_predict(X_pop_NA, y_NA, mfull_NA)\n",
    "\n",
    "mfull_NA"
   ]
  },
  {
   "cell_type": "code",
   "execution_count": 14,
   "metadata": {},
   "outputs": [
    {
     "data": {
      "text/plain": [
       "array([ -449.8150221 ,  -624.88770674,  -730.98170544, -1055.75023849,\n",
       "        -432.15857813,  -272.98950475,  -451.09062658,  -393.94585271,\n",
       "        -249.96237795,  -108.33584428,  -132.81569612,  -269.31753746,\n",
       "         -11.79012207,   189.07842132,   -57.10338982,   470.3020289 ,\n",
       "         696.1571624 ,   584.99661555,   717.77847658,   723.69245122,\n",
       "         656.47555616,   588.58802843,   747.82647302,   860.02270829,\n",
       "         692.19539402,   698.73180534,   661.87092829,   387.70525456,\n",
       "         221.74054997,   158.48066774,    46.90035488,   -61.40872962,\n",
       "        -153.07448915,   -77.72845735,    83.29281734,    12.09678685,\n",
       "        -243.02904244,  -403.18180001,  -327.84498517,  -317.42649169,\n",
       "        -551.4007493 ,  -507.76614512,  -204.419961  ,   -89.00193141,\n",
       "         153.57878274,    88.7948834 ,   105.22324816,   -56.78929215,\n",
       "        -369.05902621,  -122.57773635,    59.88503121,  -152.94335115,\n",
       "        -431.3276201 ,  -295.49041548])"
      ]
     },
     "execution_count": 14,
     "metadata": {},
     "output_type": "execute_result"
    }
   ],
   "source": [
    "full_linreg_pred_vals_NA['resids']"
   ]
  },
  {
   "cell_type": "code",
   "execution_count": 15,
   "metadata": {},
   "outputs": [
    {
     "data": {
      "image/png": "[encoded data removed]",
      "text/plain": [
       "<Figure size 640x480 with 1 Axes>"
      ]
     },
     "metadata": {},
     "output_type": "display_data"
    }
   ],
   "source": [
    "show_fit(X_pop_NA, y_NA, mfull_NA[1], mfull_NA[0])"
   ]
  },
  {
   "cell_type": "markdown",
   "metadata": {},
   "source": [
    "### Predict North America's CO2 Emission with GDP per Capita"
   ]
  },
  {
   "cell_type": "code",
   "execution_count": 16,
   "metadata": {},
   "outputs": [],
   "source": [
    "X_GDP_NA = np.array(north_america['GDP per Capita'])\n",
    "y_NA = np.array(north_america['CO2 Emission'])\n"
   ]
  },
  {
   "cell_type": "markdown",
   "metadata": {},
   "source": [
    "### Cross Val"
   ]
  },
  {
   "cell_type": "code",
   "execution_count": 17,
   "metadata": {},
   "outputs": [
    {
     "data": {
      "text/plain": [
       "array([5.36643558e+03, 5.33553698e-06])"
      ]
     },
     "execution_count": 17,
     "metadata": {},
     "output_type": "execute_result"
    }
   ],
   "source": [
    "Xtrain, Xtest, ytrain, ytest = train_test_split(X_pop_NA, y_NA, test_size=0.3, random_state = 3)\n",
    "\n",
    "#line of best fit with train sets\n",
    "mtrain_NA = line_of_best_fit(Xtrain, ytrain)\n",
    "\n",
    "#dict contains ypreds, resids, mse, r2 of North America\n",
    "linreg_pred_vals_NA = linreg_predict(Xtest, ytest, mtrain_NA)\n",
    "\n",
    "mtrain_NA"
   ]
  },
  {
   "cell_type": "code",
   "execution_count": 18,
   "metadata": {},
   "outputs": [
    {
     "data": {
      "text/plain": [
       "array([   7.96907196, -107.97995002,  -82.81982371, -216.14336255,\n",
       "       -359.2561091 ,  -86.14237251,  206.95049475,  689.39650198,\n",
       "       -182.46378055, -419.85620853, -362.87244942,  724.29859721,\n",
       "        -22.5457011 ,   24.87725253, -496.34327452, -397.8036523 ,\n",
       "        373.26364157])"
      ]
     },
     "execution_count": 18,
     "metadata": {},
     "output_type": "execute_result"
    }
   ],
   "source": [
    "linreg_pred_vals_NA['resids']"
   ]
  },
  {
   "cell_type": "markdown",
   "metadata": {},
   "source": [
    "### Whole data"
   ]
  },
  {
   "cell_type": "code",
   "execution_count": 19,
   "metadata": {},
   "outputs": [
    {
     "data": {
      "text/plain": [
       "array([6.57142593e+03, 1.17022034e-02])"
      ]
     },
     "execution_count": 19,
     "metadata": {},
     "output_type": "execute_result"
    }
   ],
   "source": [
    "#line of best fit with the whole data\n",
    "mfull_NA = line_of_best_fit(X_GDP_NA, y_NA)\n",
    "\n",
    "full_linreg_pred_vals_NA = linreg_predict(X_GDP_NA, y_NA, mfull_NA)\n",
    "\n",
    "mfull_NA"
   ]
  },
  {
   "cell_type": "code",
   "execution_count": 20,
   "metadata": {},
   "outputs": [],
   "source": [
    "res_NA = full_linreg_pred_vals_NA['resids']"
   ]
  },
  {
   "cell_type": "code",
   "execution_count": 21,
   "metadata": {},
   "outputs": [
    {
     "data": {
      "text/plain": [
       "216100.54860502164"
      ]
     },
     "execution_count": 21,
     "metadata": {},
     "output_type": "execute_result"
    }
   ],
   "source": [
    "mse_NA = full_linreg_pred_vals_NA['mse']\n",
    "mse_NA"
   ]
  },
  {
   "cell_type": "code",
   "execution_count": 22,
   "metadata": {},
   "outputs": [
    {
     "data": {
      "text/plain": [
       "0.20247003930009455"
      ]
     },
     "execution_count": 22,
     "metadata": {},
     "output_type": "execute_result"
    }
   ],
   "source": [
    "r2_NA = full_linreg_pred_vals_NA['r2']\n",
    "r2_NA"
   ]
  },
  {
   "cell_type": "code",
   "execution_count": 23,
   "metadata": {},
   "outputs": [
    {
     "data": {
      "image/png": "[encoded data removed]",
      "text/plain": [
       "<Figure size 640x480 with 1 Axes>"
      ]
     },
     "metadata": {},
     "output_type": "display_data"
    }
   ],
   "source": [
    "show_fit(X_GDP_NA, y_NA, mfull_NA[1], mfull_NA[0])"
   ]
  },
  {
   "cell_type": "markdown",
   "metadata": {},
   "source": [
    "## Multiple Regression"
   ]
  },
  {
   "cell_type": "markdown",
   "metadata": {},
   "source": [
    "### By regions"
   ]
  },
  {
   "cell_type": "markdown",
   "metadata": {},
   "source": [
    "### Standardize the data"
   ]
  },
  {
   "cell_type": "code",
   "execution_count": 24,
   "metadata": {},
   "outputs": [
    {
     "name": "stderr",
     "output_type": "stream",
     "text": [
      "/var/folders/xw/yj2m39tn3rv0y3pw8fqb3nzm0000gn/T/ipykernel_47647/2326956727.py:7: SettingWithCopyWarning: \n",
      "A value is trying to be set on a copy of a slice from a DataFrame.\n",
      "Try using .loc[row_indexer,col_indexer] = value instead\n",
      "\n",
      "See the caveats in the documentation: https://pandas.pydata.org/pandas-docs/stable/user_guide/indexing.html#returning-a-view-versus-a-copy\n",
      "  X[x_feat] = (X[x_feat] - X[x_feat].mean())/X[x_feat].std() #standardization of each x feature\n"
     ]
    },
    {
     "data": {
      "text/plain": [
       "array([[-0.52012041,  0.95538402],\n",
       "       [-0.51673303,  0.89428117],\n",
       "       [-0.52014572,  0.83453304],\n",
       "       [-0.52774653,  0.77511533],\n",
       "       [-0.52036704,  0.71591232],\n",
       "       [-0.52046186,  0.65791903],\n",
       "       [-0.52578709,  0.60117212],\n",
       "       [-0.52888298,  0.54599599],\n",
       "       [-0.51920902,  0.49136129],\n",
       "       [-0.50588479,  0.43725388],\n",
       "       [-0.50732376,  0.38470307],\n",
       "       [-0.51061092,  0.33342944],\n",
       "       [-0.511606  ,  0.28359156],\n",
       "       [-0.51964307,  0.23487148],\n",
       "       [-0.53090573,  0.1872916 ],\n",
       "       [-0.52522457,  0.14104242],\n",
       "       [-0.53270315,  0.09602592],\n",
       "       [-0.5408732 ,  0.05243055],\n",
       "       [-0.54920611,  0.01038312],\n",
       "       [-0.55676896, -0.03027249],\n",
       "       [-0.5651988 , -0.06959395],\n",
       "       [-0.57264327, -0.10758347],\n",
       "       [-0.57451034, -0.14445763],\n",
       "       [-0.57223646, -0.18017379],\n",
       "       [-0.57329127, -0.21465573],\n",
       "       [-0.55919029, -0.24785527],\n",
       "       [-0.55809155, -0.27995732],\n",
       "       [-0.55935016, -0.31155411],\n",
       "       [-0.56299155, -0.34310854],\n",
       "       [-0.57120989, -0.37342126],\n",
       "       [-0.57108941, -0.4026322 ],\n",
       "       [-0.57075599, -0.43151292],\n",
       "       [-0.56602698, -0.45973377],\n",
       "       [-0.56779153, -0.48776484],\n",
       "       [-0.57259366, -0.51584631],\n",
       "       [-0.57210804, -0.54321058],\n",
       "       [-0.57275251, -0.57010205],\n",
       "       [-0.57553646, -0.59695296],\n",
       "       [-0.57241517, -0.622822  ],\n",
       "       [-0.56966424, -0.64767834],\n",
       "       [-0.56441221, -0.6713915 ],\n",
       "       [-0.55847861, -0.69514246],\n",
       "       [-0.55307045, -0.71931737],\n",
       "       [-0.56656567, -0.74213518],\n",
       "       [-0.57403286, -0.7640586 ],\n",
       "       [-0.57840754, -0.78612079],\n",
       "       [-0.58038261, -0.80690304],\n",
       "       [-0.58174133, -0.82636879],\n",
       "       [-0.58313381, -0.84552702],\n",
       "       [-0.58459583, -0.86416376],\n",
       "       [-0.58861728, -0.88207623],\n",
       "       [-0.59190135, -0.89899289],\n",
       "       [-0.59312503, -0.91515797],\n",
       "       [-0.59303083, -0.93095443],\n",
       "       [-0.48505541,  2.34159152],\n",
       "       [-0.48788175,  2.30338404],\n",
       "       [-0.49359171,  2.26868885],\n",
       "       [-0.50870527,  2.23012629],\n",
       "       [-0.50298838,  2.18847329],\n",
       "       [-0.50533468,  2.14655901],\n",
       "       [-0.50701786,  2.1035739 ],\n",
       "       [-0.51810002,  2.06007881],\n",
       "       [-0.52519375,  2.01724314],\n",
       "       [-0.52773995,  1.97443254],\n",
       "       [-0.53351732,  1.92996735],\n",
       "       [-0.53444107,  1.88424704],\n",
       "       [-0.53448477,  1.8368721 ],\n",
       "       [-0.540097  ,  1.78841642],\n",
       "       [-0.55123904,  1.74039323],\n",
       "       [-0.5550691 ,  1.69322956],\n",
       "       [-0.55510741,  1.64695749],\n",
       "       [-0.56485653,  1.60007402],\n",
       "       [-0.569113  ,  1.55106693],\n",
       "       [-0.57312036,  1.50020547],\n",
       "       [-0.5770997 ,  1.44778397],\n",
       "       [-0.58071697,  1.39348605],\n",
       "       [-0.5814352 ,  1.33825778],\n",
       "       [-0.58151644,  1.28379823],\n",
       "       [-0.58292427,  1.22993269],\n",
       "       [-0.5840108 ,  1.17615696],\n",
       "       [-0.58387836,  1.12274763],\n",
       "       [-0.58446818,  1.06981721],\n",
       "       [-0.58587787,  1.01702831],\n",
       "       [-0.58744548,  0.96385999],\n",
       "       [-0.5892365 ,  0.91017994],\n",
       "       [-0.58871126,  0.85687352],\n",
       "       [-0.58934221,  0.80531768],\n",
       "       [-0.58693194,  0.75523832],\n",
       "       [-0.58786581,  0.70516464],\n",
       "       [-0.58762268,  0.65513435],\n",
       "       [-0.58848034,  0.60611996],\n",
       "       [-0.58981908,  0.55796077],\n",
       "       [-0.5903461 ,  0.51015305],\n",
       "       [-0.59123306,  0.46280126],\n",
       "       [-0.59081962,  0.41622495],\n",
       "       [-0.59129834,  0.37066928],\n",
       "       [-0.59145011,  0.32723692],\n",
       "       [-0.59195774,  0.28500615],\n",
       "       [-0.59404871,  0.24329669],\n",
       "       [-0.59504113,  0.20314343],\n",
       "       [-0.59610086,  0.1640382 ],\n",
       "       [-0.59719999,  0.1261138 ],\n",
       "       [-0.59678217,  0.08920781],\n",
       "       [-0.59716166,  0.05263584],\n",
       "       [-0.59845783,  0.0165615 ],\n",
       "       [-0.59920522, -0.01863011],\n",
       "       [-0.59911746, -0.05098916],\n",
       "       [-0.59937214, -0.08230137],\n",
       "       [ 3.50029413, -0.7694301 ],\n",
       "       [ 3.30748168, -0.77500572],\n",
       "       [ 3.00303419, -0.77882907],\n",
       "       [ 2.63980982, -0.78028788],\n",
       "       [ 2.7127175 , -0.78746535],\n",
       "       [ 2.60462101, -0.79151984],\n",
       "       [ 2.46286881, -0.79598431],\n",
       "       [ 2.34917455, -0.80092694],\n",
       "       [ 2.30136808, -0.80637581],\n",
       "       [ 2.25834213, -0.81159548],\n",
       "       [ 2.17817487, -0.81692737],\n",
       "       [ 2.10198648, -0.82200157],\n",
       "       [ 2.01889249, -0.82731157],\n",
       "       [ 1.92828377, -0.83246339],\n",
       "       [ 1.82538729, -0.8382954 ],\n",
       "       [ 1.92020893, -0.84438562],\n",
       "       [ 1.88521318, -0.85079592],\n",
       "       [ 1.78154445, -0.85710234],\n",
       "       [ 1.65772371, -0.86345412],\n",
       "       [ 1.52307891, -0.86945468],\n",
       "       [ 1.39820067, -0.87541243],\n",
       "       [ 1.30721172, -0.88091709],\n",
       "       [ 1.26439062, -0.88687656],\n",
       "       [ 1.22890141, -0.89312923],\n",
       "       [ 1.13337692, -0.89990933],\n",
       "       [ 1.04836433, -0.90673928],\n",
       "       [ 0.98710297, -0.91359752],\n",
       "       [ 0.91373764, -0.92067946],\n",
       "       [ 0.85036698, -0.92749316],\n",
       "       [ 0.79994004, -0.93436613],\n",
       "       [ 0.73942533, -0.94137686],\n",
       "       [ 0.69781458, -0.94877661],\n",
       "       [ 0.65185444, -0.95647006],\n",
       "       [ 0.62885614, -0.96384029],\n",
       "       [ 0.57662587, -0.97024518],\n",
       "       [ 0.49979085, -0.97582766],\n",
       "       [ 0.42145834, -0.98091292],\n",
       "       [ 0.36647071, -0.98589301],\n",
       "       [ 0.32539623, -0.99080317],\n",
       "       [ 0.27166169, -0.99544846],\n",
       "       [ 0.19509716, -0.99997349],\n",
       "       [ 0.13798229, -1.00470525],\n",
       "       [ 0.11569047, -1.00967068],\n",
       "       [ 0.04374057, -1.01473601],\n",
       "       [-0.00441234, -1.01968068],\n",
       "       [-0.06136005, -1.02507018],\n",
       "       [-0.11480622, -1.03021098],\n",
       "       [-0.15590226, -1.03514619],\n",
       "       [-0.19975898, -1.03985953],\n",
       "       [-0.22931944, -1.04474234],\n",
       "       [-0.25887849, -1.0492409 ],\n",
       "       [-0.29246427, -1.05378944],\n",
       "       [-0.31818486, -1.05874613],\n",
       "       [-0.3378005 , -1.06520633]])"
      ]
     },
     "execution_count": 24,
     "metadata": {},
     "output_type": "execute_result"
    }
   ],
   "source": [
    "#standardize the data\n",
    "x_feat_list = ['GDP per Capita', 'Total Population']\n",
    "X = countries_by_regions[x_feat_list]\n",
    "\n",
    "#we'll concatenate regions into X later, otherwise with regions we can't perform standardization of X feature\n",
    "for x_feat in x_feat_list: \n",
    "    X[x_feat] = (X[x_feat] - X[x_feat].mean())/X[x_feat].std() #standardization of each x feature\n",
    "    \n",
    "X = np.array(X)\n",
    "\n",
    "y = np.array(countries_by_regions['CO2 Emission'])\n",
    "\n",
    "X"
   ]
  },
  {
   "cell_type": "markdown",
   "metadata": {},
   "source": [
    "### Cross Val"
   ]
  },
  {
   "cell_type": "code",
   "execution_count": 25,
   "metadata": {},
   "outputs": [
    {
     "data": {
      "text/plain": [
       "array([3595.74681895, 1735.41565811,   63.79105411])"
      ]
     },
     "execution_count": 25,
     "metadata": {},
     "output_type": "execute_result"
    }
   ],
   "source": [
    "Xtrain, Xtest, ytrain, ytest = train_test_split(X, y, test_size=0.3, random_state = 3)\n",
    "\n",
    "mtrain_region = line_of_best_fit(Xtrain, ytrain)\n",
    "\n",
    "linreg_pred_vals_region = linreg_predict(Xtest, ytest, mtrain_region)\n",
    "\n",
    "mtrain_region"
   ]
  },
  {
   "cell_type": "code",
   "execution_count": 26,
   "metadata": {},
   "outputs": [
    {
     "data": {
      "text/plain": [
       "2640769.669698676"
      ]
     },
     "execution_count": 26,
     "metadata": {},
     "output_type": "execute_result"
    }
   ],
   "source": [
    "linreg_pred_vals_region['mse']"
   ]
  },
  {
   "cell_type": "code",
   "execution_count": 27,
   "metadata": {},
   "outputs": [
    {
     "data": {
      "text/plain": [
       "0.5628914305307434"
      ]
     },
     "execution_count": 27,
     "metadata": {},
     "output_type": "execute_result"
    }
   ],
   "source": [
    "linreg_pred_vals_region['r2']"
   ]
  },
  {
   "cell_type": "markdown",
   "metadata": {},
   "source": [
    "### Whole Data"
   ]
  },
  {
   "cell_type": "code",
   "execution_count": 28,
   "metadata": {},
   "outputs": [],
   "source": [
    "m_region_full = line_of_best_fit(X, y)\n",
    "full_linreg_predict_region = linreg_predict(X, y, m_region_full)\n",
    "res_region = full_linreg_predict_region['resids']"
   ]
  },
  {
   "cell_type": "code",
   "execution_count": 29,
   "metadata": {},
   "outputs": [
    {
     "data": {
      "text/plain": [
       "2562507.672714664"
      ]
     },
     "execution_count": 29,
     "metadata": {},
     "output_type": "execute_result"
    }
   ],
   "source": [
    "mse_region = full_linreg_predict_region['mse']\n",
    "mse_region"
   ]
  },
  {
   "cell_type": "code",
   "execution_count": 30,
   "metadata": {},
   "outputs": [
    {
     "data": {
      "text/plain": [
       "0.5727062908977282"
      ]
     },
     "execution_count": 30,
     "metadata": {},
     "output_type": "execute_result"
    }
   ],
   "source": [
    "r2_region = full_linreg_predict_region['r2']\n",
    "r2_region"
   ]
  },
  {
   "cell_type": "code",
   "execution_count": null,
   "metadata": {},
   "outputs": [],
   "source": []
  },
  {
   "cell_type": "markdown",
   "metadata": {},
   "source": [
    "### By Income"
   ]
  },
  {
   "cell_type": "markdown",
   "metadata": {},
   "source": [
    "### Standardize the data"
   ]
  },
  {
   "cell_type": "code",
   "execution_count": 31,
   "metadata": {},
   "outputs": [
    {
     "name": "stderr",
     "output_type": "stream",
     "text": [
      "/var/folders/xw/yj2m39tn3rv0y3pw8fqb3nzm0000gn/T/ipykernel_47647/4021170009.py:7: SettingWithCopyWarning: \n",
      "A value is trying to be set on a copy of a slice from a DataFrame.\n",
      "Try using .loc[row_indexer,col_indexer] = value instead\n",
      "\n",
      "See the caveats in the documentation: https://pandas.pydata.org/pandas-docs/stable/user_guide/indexing.html#returning-a-view-versus-a-copy\n",
      "  X[x_feat] = (X[x_feat] - X[x_feat].mean())/X[x_feat].std() #standardization of each x feature\n"
     ]
    },
    {
     "data": {
      "text/plain": [
       "array([[-0.15621762,  2.2823854 ],\n",
       "       [-0.16412388,  2.25473382],\n",
       "       [-0.18294297,  2.23032217],\n",
       "       [-0.25012586,  2.20014768],\n",
       "       [-0.23341354,  2.16689552],\n",
       "       [-0.23873353,  2.13165651],\n",
       "       [-0.25892619,  2.09489257],\n",
       "       [-0.28764663,  2.05706161],\n",
       "       [-0.28762214,  2.01917536],\n",
       "       [-0.27202018,  1.98053425],\n",
       "       [-0.28409922,  1.94109169],\n",
       "       [-0.30067815,  1.90147213],\n",
       "       [-0.31778396,  1.8624341 ],\n",
       "       [-0.36442094,  1.82441706],\n",
       "       [-0.41224035,  1.78744902],\n",
       "       [-0.40985153,  1.75109466],\n",
       "       [-0.44483754,  1.71525962],\n",
       "       [-0.4803956 ,  1.68000577],\n",
       "       [-0.50374982,  1.64404251],\n",
       "       [-0.52411193,  1.60721019],\n",
       "       [-0.54089184,  1.57010306],\n",
       "       [-0.55094756,  1.53307586],\n",
       "       [-0.55128871,  1.49531958],\n",
       "       [-0.55014003,  1.45650548],\n",
       "       [-0.55642333,  1.4175722 ],\n",
       "       [-0.55137953,  1.37855887],\n",
       "       [-0.54937597,  1.33881562],\n",
       "       [-0.55355764,  1.29871954],\n",
       "       [-0.56171752,  1.25857977],\n",
       "       [-0.57136544,  1.21828087],\n",
       "       [-0.57866204,  1.17766645],\n",
       "       [-0.58421486,  1.1370693 ],\n",
       "       [-0.58741981,  1.09570069],\n",
       "       [-0.58406197,  1.05254863],\n",
       "       [-0.59067828,  1.00755468],\n",
       "       [-0.59143119,  0.96402796],\n",
       "       [-0.59370031,  0.92016988],\n",
       "       [-0.59371594,  0.87667717],\n",
       "       [-0.59257114,  0.83436126],\n",
       "       [-0.59327461,  0.79346183],\n",
       "       [-0.59381403,  0.75340409],\n",
       "       [-0.59277361,  0.71304251],\n",
       "       [-0.58994641,  0.67276788],\n",
       "       [-0.59557306,  0.63405739],\n",
       "       [-0.60358817,  0.5969051 ],\n",
       "       [-0.61036077,  0.56092539],\n",
       "       [-0.61244763,  0.52578027],\n",
       "       [-0.61558562,  0.49104787],\n",
       "       [-0.61700314,  0.45617966],\n",
       "       [-0.61989755,  0.42085456],\n",
       "       [-0.6250252 ,  0.38454297],\n",
       "       [-0.62894592,  0.34785148],\n",
       "       [-0.63055424,  0.31168728],\n",
       "       [-0.63120279,  0.27506097],\n",
       "       [-0.54487424, -0.52262075],\n",
       "       [-0.54805973, -0.53804284],\n",
       "       [-0.55700605, -0.55326058],\n",
       "       [-0.56248108, -0.56860562],\n",
       "       [-0.561273  , -0.58378706],\n",
       "       [-0.56379863, -0.59846308],\n",
       "       [-0.56690315, -0.61284465],\n",
       "       [-0.57203775, -0.62711781],\n",
       "       [-0.57148359, -0.6409837 ],\n",
       "       [-0.56637291, -0.65436939],\n",
       "       [-0.57019384, -0.66759661],\n",
       "       [-0.57477811, -0.6805234 ],\n",
       "       [-0.57620063, -0.6931421 ],\n",
       "       [-0.58343351, -0.70539317],\n",
       "       [-0.58941876, -0.71716342],\n",
       "       [-0.58746178, -0.72848764],\n",
       "       [-0.59735258, -0.73937064],\n",
       "       [-0.60472467, -0.75012604],\n",
       "       [-0.60960621, -0.76103067],\n",
       "       [-0.61453284, -0.77178914],\n",
       "       [-0.61806796, -0.78237191],\n",
       "       [-0.62080413, -0.79317678],\n",
       "       [-0.62244163, -0.80364031],\n",
       "       [-0.62078978, -0.81318604],\n",
       "       [-0.6233988 , -0.82254632],\n",
       "       [-0.62353955, -0.83190674],\n",
       "       [-0.62327822, -0.84092562],\n",
       "       [-0.62386474, -0.84974605],\n",
       "       [-0.62436407, -0.85855842],\n",
       "       [-0.62435225, -0.86731641],\n",
       "       [-0.62327791, -0.87619915],\n",
       "       [-0.62378753, -0.88530959],\n",
       "       [-0.6166197 , -0.89369247],\n",
       "       [-0.61860153, -0.90115552],\n",
       "       [-0.62201136, -0.90857419],\n",
       "       [-0.62307305, -0.91587964],\n",
       "       [-0.62457384, -0.92298517],\n",
       "       [-0.62544725, -0.93009257],\n",
       "       [-0.62093849, -0.93710204],\n",
       "       [-0.62263419, -0.94413974],\n",
       "       [-0.62309255, -0.95109217],\n",
       "       [-0.6226989 , -0.95784104],\n",
       "       [-0.62218745, -0.96396506],\n",
       "       [-0.62293667, -0.96925047],\n",
       "       [-0.62513589, -0.97470404],\n",
       "       [-0.6269855 , -0.98067795],\n",
       "       [-0.62939861, -0.9863473 ],\n",
       "       [-0.63019407, -0.99150901],\n",
       "       [-0.62821098, -0.99650356],\n",
       "       [-0.6313908 , -1.00158258],\n",
       "       [-0.63426006, -1.00671871],\n",
       "       [-0.6362281 , -1.01168171],\n",
       "       [-0.63621779, -1.0160187 ],\n",
       "       [-0.63636452, -1.02017094],\n",
       "       [ 3.13174209, -0.3724548 ],\n",
       "       [ 2.97073327, -0.37666315],\n",
       "       [ 2.8668703 , -0.37843176],\n",
       "       [ 2.48938223, -0.37784547],\n",
       "       [ 2.58068811, -0.38068551],\n",
       "       [ 2.56263122, -0.38378591],\n",
       "       [ 2.38625985, -0.3873673 ],\n",
       "       [ 2.25189907, -0.39117847],\n",
       "       [ 2.21188729, -0.39547774],\n",
       "       [ 2.43114277, -0.39970943],\n",
       "       [ 2.39716572, -0.40402222],\n",
       "       [ 2.37080298, -0.40827831],\n",
       "       [ 2.37550144, -0.41236998],\n",
       "       [ 2.14071585, -0.41542176],\n",
       "       [ 2.01418347, -0.41982377],\n",
       "       [ 2.23426268, -0.42496647],\n",
       "       [ 2.06071401, -0.43061357],\n",
       "       [ 1.83081484, -0.43595096],\n",
       "       [ 1.70249776, -0.44070693],\n",
       "       [ 1.578198  , -0.44475053],\n",
       "       [ 1.35503399, -0.44856399],\n",
       "       [ 1.14527396, -0.45219693],\n",
       "       [ 1.07855211, -0.45574433],\n",
       "       [ 1.10079033, -0.4592799 ],\n",
       "       [ 1.06958992, -0.46287218],\n",
       "       [ 1.00088684, -0.46663667],\n",
       "       [ 1.01187335, -0.47057917],\n",
       "       [ 1.04879693, -0.47463404],\n",
       "       [ 1.04480353, -0.4787885 ],\n",
       "       [ 0.88649233, -0.48299856],\n",
       "       [ 0.79571816, -0.48742147],\n",
       "       [ 0.79535568, -0.49217764],\n",
       "       [ 0.70994469, -0.49732079],\n",
       "       [ 0.64827435, -0.5024994 ],\n",
       "       [ 0.51691562, -0.5069209 ],\n",
       "       [ 0.47844998, -0.5118262 ],\n",
       "       [ 0.35978893, -0.51654857],\n",
       "       [ 0.22722218, -0.52119812],\n",
       "       [ 0.07743876, -0.52576474],\n",
       "       [ 0.04791873, -0.5302535 ],\n",
       "       [ 0.02401549, -0.53469625],\n",
       "       [ 0.00696926, -0.53923783],\n",
       "       [ 0.01830637, -0.54410922],\n",
       "       [ 0.013295  , -0.54927775],\n",
       "       [-0.05071165, -0.55451433],\n",
       "       [-0.12679015, -0.55988474],\n",
       "       [-0.21022926, -0.56508526],\n",
       "       [-0.25800411, -0.57026024],\n",
       "       [-0.2868787 , -0.57548643],\n",
       "       [-0.32149525, -0.5809563 ],\n",
       "       [-0.35655764, -0.58655444],\n",
       "       [-0.40542173, -0.59224254],\n",
       "       [-0.43707411, -0.59810656],\n",
       "       [-0.45599851, -0.60472992]])"
      ]
     },
     "execution_count": 31,
     "metadata": {},
     "output_type": "execute_result"
    }
   ],
   "source": [
    "#standardize the data\n",
    "x_feat_list = ['GDP per Capita', 'Total Population']\n",
    "X = countries_by_incomes[x_feat_list]\n",
    "\n",
    "#we'll concatenate regions into X later, otherwise with regions we can't perform standardization of X feature\n",
    "for x_feat in x_feat_list: \n",
    "    X[x_feat] = (X[x_feat] - X[x_feat].mean())/X[x_feat].std() #standardization of each x feature\n",
    "    \n",
    "X = np.array(X)\n",
    "\n",
    "y = np.array(countries_by_incomes['CO2 Emission'])\n",
    "\n",
    "X"
   ]
  },
  {
   "cell_type": "markdown",
   "metadata": {},
   "source": [
    "### Cross Val"
   ]
  },
  {
   "cell_type": "code",
   "execution_count": 32,
   "metadata": {},
   "outputs": [
    {
     "data": {
      "text/plain": [
       "array([11695.81237001,  4909.5688175 ,  6563.84870207])"
      ]
     },
     "execution_count": 32,
     "metadata": {},
     "output_type": "execute_result"
    }
   ],
   "source": [
    "Xtrain, Xtest, ytrain, ytest = train_test_split(X, y, test_size=0.3, random_state = 3)\n",
    "\n",
    "mtrain_income = line_of_best_fit(Xtrain, ytrain)\n",
    "\n",
    "linreg_pred_vals_income = linreg_predict(Xtest, ytest, mtrain_income)\n",
    "\n",
    "mtrain_income"
   ]
  },
  {
   "cell_type": "code",
   "execution_count": 33,
   "metadata": {},
   "outputs": [
    {
     "data": {
      "text/plain": [
       "26803000.97026269"
      ]
     },
     "execution_count": 33,
     "metadata": {},
     "output_type": "execute_result"
    }
   ],
   "source": [
    "linreg_pred_vals_income['mse']"
   ]
  },
  {
   "cell_type": "code",
   "execution_count": 34,
   "metadata": {},
   "outputs": [
    {
     "data": {
      "text/plain": [
       "0.6571980787349303"
      ]
     },
     "execution_count": 34,
     "metadata": {},
     "output_type": "execute_result"
    }
   ],
   "source": [
    "linreg_pred_vals_income['r2']"
   ]
  },
  {
   "cell_type": "markdown",
   "metadata": {},
   "source": [
    "### Whole Data"
   ]
  },
  {
   "cell_type": "code",
   "execution_count": 35,
   "metadata": {},
   "outputs": [],
   "source": [
    "m_income_full = line_of_best_fit(X, y)\n",
    "full_linreg_predict_income = linreg_predict(X, y, m_income_full)\n",
    "res_income = full_linreg_predict_income['resids']"
   ]
  },
  {
   "cell_type": "code",
   "execution_count": 36,
   "metadata": {},
   "outputs": [
    {
     "data": {
      "text/plain": [
       "22827302.6962123"
      ]
     },
     "execution_count": 36,
     "metadata": {},
     "output_type": "execute_result"
    }
   ],
   "source": [
    "mse_income = full_linreg_predict_income['mse']\n",
    "mse_income"
   ]
  },
  {
   "cell_type": "code",
   "execution_count": 37,
   "metadata": {},
   "outputs": [
    {
     "data": {
      "text/plain": [
       "0.7217936194149929"
      ]
     },
     "execution_count": 37,
     "metadata": {},
     "output_type": "execute_result"
    }
   ],
   "source": [
    "r2_income = full_linreg_predict_income['r2']\n",
    "r2_income"
   ]
  },
  {
   "cell_type": "markdown",
   "metadata": {},
   "source": [
    "## Polynomial Regression"
   ]
  },
  {
   "cell_type": "markdown",
   "metadata": {},
   "source": [
    "### X is the Population"
   ]
  },
  {
   "cell_type": "markdown",
   "metadata": {},
   "source": [
    "### Regions of North America, South Asia, and Sub-Saharan Africa"
   ]
  },
  {
   "cell_type": "code",
   "execution_count": 38,
   "metadata": {},
   "outputs": [],
   "source": [
    "X_pop_regions = np.array(countries_by_regions['Total Population']).reshape(-1,1)\n",
    "poly = PolynomialFeatures(degree = 4, include_bias=False)\n",
    "X_poly = poly.fit_transform(X_pop_regions)\n",
    "y = np.array(countries_by_regions['CO2 Emission'])"
   ]
  },
  {
   "cell_type": "markdown",
   "metadata": {},
   "source": [
    "### Cross Val"
   ]
  },
  {
   "cell_type": "code",
   "execution_count": 39,
   "metadata": {},
   "outputs": [
    {
     "data": {
      "text/plain": [
       "2868809.3509895485"
      ]
     },
     "execution_count": 39,
     "metadata": {},
     "output_type": "execute_result"
    }
   ],
   "source": [
    "Xtrain, Xtest, ytrain, ytest = train_test_split(X_poly, y, test_size=0.3, random_state = 3)\n",
    "\n",
    "m_poly = line_of_best_fit(Xtrain, ytrain)\n",
    "\n",
    "linreg_predict_poly = linreg_predict(Xtest, ytest, m_poly)\n",
    "\n",
    "linreg_predict_poly['mse']"
   ]
  },
  {
   "cell_type": "code",
   "execution_count": 40,
   "metadata": {},
   "outputs": [
    {
     "data": {
      "text/plain": [
       "0.5251455793817289"
      ]
     },
     "execution_count": 40,
     "metadata": {},
     "output_type": "execute_result"
    }
   ],
   "source": [
    "linreg_predict_poly['r2']"
   ]
  },
  {
   "cell_type": "markdown",
   "metadata": {},
   "source": [
    "### Whole Data"
   ]
  },
  {
   "cell_type": "code",
   "execution_count": 41,
   "metadata": {},
   "outputs": [
    {
     "data": {
      "text/plain": [
       "2488437.8373118965"
      ]
     },
     "execution_count": 41,
     "metadata": {},
     "output_type": "execute_result"
    }
   ],
   "source": [
    "m_poly_full = line_of_best_fit(X_poly, y)\n",
    "\n",
    "full_linreg_predict_poly = linreg_predict(X_poly, y, m_poly_full)\n",
    "\n",
    "res_poly = full_linreg_predict_poly['resids']\n",
    "full_linreg_predict_poly['mse']"
   ]
  },
  {
   "cell_type": "code",
   "execution_count": 42,
   "metadata": {},
   "outputs": [
    {
     "data": {
      "text/plain": [
       "0.5850573074581252"
      ]
     },
     "execution_count": 42,
     "metadata": {},
     "output_type": "execute_result"
    }
   ],
   "source": [
    "full_linreg_predict_poly['r2']"
   ]
  },
  {
   "cell_type": "code",
   "execution_count": null,
   "metadata": {},
   "outputs": [],
   "source": []
  },
  {
   "cell_type": "markdown",
   "metadata": {},
   "source": [
    "### Countries by Income Levels: `High income`, `Middle income`, `Least developed countries: UN classification`"
   ]
  },
  {
   "cell_type": "code",
   "execution_count": 43,
   "metadata": {},
   "outputs": [],
   "source": [
    "X_pop_incomes = np.array(countries_by_incomes['Total Population']).reshape(-1,1)\n",
    "poly = PolynomialFeatures(degree = 4, include_bias=False)\n",
    "X_poly = poly.fit_transform(X_pop_incomes)\n",
    "y = np.array(countries_by_incomes['CO2 Emission'])"
   ]
  },
  {
   "cell_type": "markdown",
   "metadata": {},
   "source": [
    "### Cross Val"
   ]
  },
  {
   "cell_type": "code",
   "execution_count": 44,
   "metadata": {},
   "outputs": [
    {
     "data": {
      "text/plain": [
       "18392625.565436598"
      ]
     },
     "execution_count": 44,
     "metadata": {},
     "output_type": "execute_result"
    }
   ],
   "source": [
    "Xtrain, Xtest, ytrain, ytest = train_test_split(X_poly, y, test_size=0.3, random_state = 3)\n",
    "\n",
    "m_poly = line_of_best_fit(Xtrain, ytrain)\n",
    "\n",
    "linreg_predict_poly = linreg_predict(Xtest, ytest, m_poly)\n",
    "\n",
    "linreg_predict_poly['mse']"
   ]
  },
  {
   "cell_type": "code",
   "execution_count": null,
   "metadata": {},
   "outputs": [],
   "source": []
  },
  {
   "cell_type": "code",
   "execution_count": null,
   "metadata": {},
   "outputs": [],
   "source": []
  },
  {
   "cell_type": "code",
   "execution_count": null,
   "metadata": {},
   "outputs": [],
   "source": []
  },
  {
   "cell_type": "code",
   "execution_count": null,
   "metadata": {},
   "outputs": [],
   "source": []
  },
  {
   "cell_type": "code",
   "execution_count": null,
   "metadata": {},
   "outputs": [],
   "source": []
  },
  {
   "cell_type": "code",
   "execution_count": null,
   "metadata": {},
   "outputs": [],
   "source": []
  }
 ],
 "metadata": {
  "kernelspec": {
   "display_name": "Python 3 (ipykernel)",
   "language": "python",
   "name": "python3"
  },
  "language_info": {
   "codemirror_mode": {
    "name": "ipython",
    "version": 3
   },
   "file_extension": ".py",
   "mimetype": "text/x-python",
   "name": "python",
   "nbconvert_exporter": "python",
   "pygments_lexer": "ipython3",
   "version": "3.11.8"
  }
 },
 "nbformat": 4,
 "nbformat_minor": 4
}
