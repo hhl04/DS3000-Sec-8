{
 "cells": [
  {
   "cell_type": "markdown",
   "metadata": {},
   "source": [
    "# PROJECT PHASE 2 SUBMISSION\n",
    "\n",
    "# NAMES: Madison, Nakul, Huy, Mark\n",
    "\n",
    "## Central motivation of the project\n",
    "\n",
    "We wanted to find how the Economic Growth of Countries Affect CO2 Emissions. As countries progress economically, they face challenges related to climate sustainabiliy and preservation. Tracking CO2 emissions of countries can help predict future CO2 emissions as more countries become developed. \n",
    "\n",
    "1. How does the CO2 emissions of developing countries help predict future climate issues. \n",
    "\n",
    "2. How does economic growth impact pollution by country; is there a corellation between economic output and poluttion. \n",
    "\n"
   ]
  },
  {
   "cell_type": "code",
   "execution_count": null,
   "metadata": {
    "vscode": {
     "languageId": "plaintext"
    }
   },
   "outputs": [],
   "source": [
    "gdp_clean_lst = []\n",
    "\n",
    "for year in range(1960, 2024): \n",
    "    table = pd.read_html(f'https://countryeconomy.com/gdp?year={year}')\n",
    "    \n",
    "    #[:-1] removes the '< GDP yearGDP year >\t< GDP yearGDP year >\t< GDP yearGDP year >\tNaN' row\n",
    "    clean_table = table[0][:-1].drop(['Annual GDP', 'Annual GDP.1', 'Annual GDP.3', 'GDP Growth (%).1'], axis = 1)\n",
    "    clean_table.rename(columns={'Annual GDP.2': 'Annual GDP'}, inplace=True)\n",
    "\n",
    "    #replace nan with 0\n",
    "    clean_table = clean_table.replace(np.nan, 0)\n",
    "    \n",
    "    #remove '$', ',' , 'M' and convert the string to int\n",
    "    #ANNUAL GDP is in MILLION\n",
    "    clean_table['Annual GDP'] = clean_table['Annual GDP'].replace('[\\$,M]', '', regex=True).astype(int)\n",
    "    \n",
    "    #remove '%' and convert the string to float\n",
    "    clean_table['GDP Growth (%)'] = clean_table['GDP Growth (%)'].str.rstrip('%').astype(float)\n",
    "    \n",
    "    #remove '+' in Countries\n",
    "    clean_table['Countries'] = clean_table['Countries'].replace(r'\\[\\+\\]', '', regex=True).astype(str)\n",
    "    \n",
    "    #combine 'Date' and 'Annual GDP' columns, make each year in 'Date' a column name\n",
    "    clean_table = clean_table.pivot(index='Countries', columns='Date', values='Annual GDP')\n",
    "\n",
    "    gdp_clean_lst.append(clean_table)"
   ]
  },
  {
   "cell_type": "code",
   "execution_count": null,
   "metadata": {
    "vscode": {
     "languageId": "plaintext"
    }
   },
   "outputs": [],
   "source": [
    "gdp_1960_to_2023 = pd.concat(gdp_clean_lst, axis=1).reset_index()"
   ]
  }
 ],
 "metadata": {
  "language_info": {
   "name": "python"
  }
 },
 "nbformat": 4,
 "nbformat_minor": 2
}
