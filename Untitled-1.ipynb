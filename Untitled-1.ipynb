{
 "cells": [
  {
   "cell_type": "markdown",
   "metadata": {},
   "source": [
    "# PROJECT PHASE 2 SUBMISSION\n",
    "\n",
    "# NAMES: Madison, Nakul, Huy, Mark\n",
    "\n",
    "## Central motivation of the project\n",
    "\n",
    "We wanted to find how the Economic Growth of Countries Affect CO2 Emissions. As countries progress economically, they face challenges related to climate sustainabiliy and preservation. Tracking CO2 emissions of countries can help predict future CO2 emissions as more countries become developed. \n",
    "\n",
    "1. How does the CO2 emissions of developing countries help predict future climate issues. \n",
    "\n",
    "2. How does economic growth impact pollution by country; is there a corellation between economic output and poluttion. \n",
    "\n"
   ]
  }
 ],
 "metadata": {
  "language_info": {
   "name": "python"
  }
 },
 "nbformat": 4,
 "nbformat_minor": 2
}
